{
 "cells": [
  {
   "cell_type": "markdown",
   "metadata": {},
   "source": [
    "## Modèles"
   ]
  },
  {
   "cell_type": "markdown",
   "metadata": {},
   "source": [
    "#### Regressions (linéaire et non linéaire), KNN, SVR"
   ]
  },
  {
   "cell_type": "markdown",
   "metadata": {},
   "source": [
    "### Regression linéaire\n",
    "<br>LinearRegression ajuste un modèle linéaire avec des coefficients w = (w1,…, wp) pour minimiser la somme <br> résiduelle des carrés entre les cibles observées dans le jeu de données et les cibles prédites par l'approximation linéaire."
   ]
  },
  {
   "cell_type": "markdown",
   "metadata": {},
   "source": [
    "1) Importer les librairies classiques : numpy, pandas, seaborn et matplolib\n"
   ]
  },
  {
   "cell_type": "code",
   "execution_count": 3,
   "metadata": {},
   "outputs": [],
   "source": [
    "import matplotlib.pyplot as plt\n",
    "import numpy as np\n",
    "import pandas as pd\n",
    "import seaborn"
   ]
  },
  {
   "cell_type": "markdown",
   "metadata": {},
   "source": [
    "2) Lire le fichier U_I.csv avec pandas "
   ]
  },
  {
   "cell_type": "code",
   "execution_count": 4,
   "metadata": {},
   "outputs": [],
   "source": [
    "datas = pd.read_csv('U_I.csv', sep=\";\")"
   ]
  },
  {
   "cell_type": "markdown",
   "metadata": {},
   "source": [
    "3) Pour chaque colonne dans le tableau de données, donner le nombre d'éléments, les valeurs max, min"
   ]
  },
  {
   "cell_type": "code",
   "execution_count": 5,
   "metadata": {},
   "outputs": [
    {
     "name": "stdout",
     "output_type": "stream",
     "text": [
      "U    400.000000\n",
      "I     50.012382\n",
      "dtype: float64\n",
      "200\n"
     ]
    }
   ],
   "source": [
    "print(datas.max())\n",
    "print(datas.size)"
   ]
  },
  {
   "cell_type": "markdown",
   "metadata": {},
   "source": [
    "4) Tracer I(U), sous forme de nuage de points"
   ]
  },
  {
   "cell_type": "code",
   "execution_count": 6,
   "metadata": {},
   "outputs": [
    {
     "data": {
      "image/png": "[encoded data removed]",
      "text/plain": [
       "<Figure size 432x288 with 1 Axes>"
      ]
     },
     "metadata": {
      "needs_background": "light"
     },
     "output_type": "display_data"
    }
   ],
   "source": [
    "Y = datas.values[:, 0]\n",
    "X = datas.values[:, 1]\n",
    "\n",
    "plt.scatter(X, Y, s=10)\n",
    "plt.xlabel('I')\n",
    "plt.ylabel('U')\n",
    "plt.show()"
   ]
  },
  {
   "cell_type": "markdown",
   "metadata": {},
   "source": [
    "5) Séparer les deux collones du fichier en 4 listes de données X_train, X_test, Y_train, Y_test avec 80% pour train\n",
    "   et 20% pour test en utilisant: from sklearn.model_selection import train_test_split"
   ]
  },
  {
   "cell_type": "code",
   "execution_count": 7,
   "metadata": {},
   "outputs": [],
   "source": [
    "from sklearn.model_selection import train_test_split\n",
    "\n",
    "train_datas, test_datas = train_test_split(datas.values, test_size=20)\n",
    "\n",
    "Y_train = [train_datas[i][0] for i in range(len(train_datas))]\n",
    "X_train = [train_datas[i][1] for i in range(len(train_datas))]\n",
    "Y_test = [test_datas[i][0] for i in range(len(test_datas))]\n",
    "X_test = [test_datas[i][1] for i in range(len(test_datas))]\n"
   ]
  },
  {
   "cell_type": "markdown",
   "metadata": {},
   "source": [
    "6) Vérifier le pourcentage de la séparation. Afficher 5 élement de X_train à partir de l'élement 25. Comparer les avec ui_df['U'] "
   ]
  },
  {
   "cell_type": "code",
   "execution_count": 8,
   "metadata": {},
   "outputs": [
    {
     "name": "stdout",
     "output_type": "stream",
     "text": [
      "0.2\n"
     ]
    }
   ],
   "source": [
    "print(len(X_test) / (len(X_test) + len(X_train)))"
   ]
  },
  {
   "cell_type": "markdown",
   "metadata": {},
   "source": [
    "7) Redimensionner X_train,Y_train, X_test et Y_test en utilisant la méthode \"reshape\", e.g.\n",
    "x_train=X_train.values.reshape(-1,1)"
   ]
  },
  {
   "cell_type": "code",
   "execution_count": 10,
   "metadata": {},
   "outputs": [],
   "source": [
    "x_train = np.reshape(X_train, (-1, 1))\n",
    "y_train = np.reshape(Y_train, (-1, 1))\n",
    "x_test = np.reshape(X_test, (-1, 1))\n",
    "y_test = np.reshape(Y_test, (-1, 1))"
   ]
  },
  {
   "cell_type": "markdown",
   "metadata": {},
   "source": [
    "7) Tracer sur la même figure les nuages de points des données \"train\" et \"test\""
   ]
  },
  {
   "cell_type": "code",
   "execution_count": 11,
   "metadata": {},
   "outputs": [
    {
     "data": {
      "image/png": "[encoded data removed]",
      "text/plain": [
       "<Figure size 432x288 with 1 Axes>"
      ]
     },
     "metadata": {
      "needs_background": "light"
     },
     "output_type": "display_data"
    }
   ],
   "source": [
    "plt.scatter(x_train, y_train, s=10, c='blue', label='train datas')\n",
    "plt.scatter(x_test, y_test, s=10, c='red', label='test datas')\n",
    "plt.xlabel('I')\n",
    "plt.ylabel('U')\n",
    "plt.legend()\n",
    "plt.show()"
   ]
  },
  {
   "cell_type": "markdown",
   "metadata": {},
   "source": [
    "8) Entrainer un modèle de régression linéaire avec les données \"train\". Calculer les coefficients de détermination (R²) pour les données \"train\" et \"test\" respectivement\n",
    "https://lexique.netmath.ca/coefficient-de-determination/"
   ]
  },
  {
   "cell_type": "code",
   "execution_count": 13,
   "metadata": {},
   "outputs": [
    {
     "name": "stdout",
     "output_type": "stream",
     "text": [
      "489.67622648195197\n",
      "rapport R = U/I = -9.719895254626044 Ohms\n",
      "97.0378800684831\n"
     ]
    }
   ],
   "source": [
    "from sklearn.linear_model import LinearRegression\n",
    "model_linReg = LinearRegression()\n",
    "\n",
    "model_linReg.fit(x_train, y_train)\n",
    "precision = model_linReg.score(x_test, y_test)\n",
    "\n",
    "\n",
    "resistance = model_linReg.coef_[0, 0]\n",
    "constante = model_linReg.intercept_[0]\n",
    "print(constante)\n",
    "print(\"rapport R = U/I =\", resistance, 'Ohms')\n",
    "\n",
    "print(precision*100)"
   ]
  },
  {
   "cell_type": "markdown",
   "metadata": {},
   "source": [
    "9) Tracer le nuage des points des données et tracer la droite donnée par le modèle"
   ]
  },
  {
   "cell_type": "code",
   "execution_count": 14,
   "metadata": {},
   "outputs": [
    {
     "data": {
      "image/png": "[encoded data removed]",
      "text/plain": [
       "<Figure size 432x288 with 1 Axes>"
      ]
     },
     "metadata": {
      "needs_background": "light"
     },
     "output_type": "display_data"
    }
   ],
   "source": [
    "X = datas.values[:, 1]\n",
    "x = np.reshape(X, (-1, 1))\n",
    "y = model_linReg.predict(x)\n",
    "\n",
    "plt.scatter(x, y, s=10)\n",
    "plt.xlabel('I')\n",
    "plt.ylabel('U')\n",
    "plt.show()"
   ]
  },
  {
   "cell_type": "markdown",
   "metadata": {},
   "source": [
    "10) Vérifer la valeur de courant pour U=100V. Mettre ce point sur le graphique précédent"
   ]
  },
  {
   "cell_type": "code",
   "execution_count": 15,
   "metadata": {},
   "outputs": [
    {
     "name": "stdout",
     "output_type": "stream",
     "text": [
      "[[-482.31329898]]\n"
     ]
    },
    {
     "data": {
      "image/png": "[encoded data removed]",
      "text/plain": [
       "<Figure size 432x288 with 1 Axes>"
      ]
     },
     "metadata": {
      "needs_background": "light"
     },
     "output_type": "display_data"
    }
   ],
   "source": [
    "U = 100 #Volts\n",
    "I = model_linReg.predict([[U]])\n",
    "print(I)\n",
    "\n",
    "plt.scatter(x, y, s=10)\n",
    "plt.scatter(U, I, s=10, c='red')\n",
    "\n",
    "plt.xlabel('I')\n",
    "plt.ylabel('U')\n",
    "plt.show()\n"
   ]
  }
 ],
 "metadata": {
  "interpreter": {
   "hash": "bf074bd0e01657660e97728bbb2704e6a091c2cab18096e93119f05f61ace16f"
  },
  "kernelspec": {
   "display_name": "Python 3.8.10 ('env': venv)",
   "language": "python",
   "name": "python3"
  },
  "language_info": {
   "codemirror_mode": {
    "name": "ipython",
    "version": 3
   },
   "file_extension": ".py",
   "mimetype": "text/x-python",
   "name": "python",
   "nbconvert_exporter": "python",
   "pygments_lexer": "ipython3",
   "version": "3.8.10"
  }
 },
 "nbformat": 4,
 "nbformat_minor": 4
}
