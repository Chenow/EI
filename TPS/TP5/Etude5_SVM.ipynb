{
 "cells": [
  {
   "cell_type": "markdown",
   "metadata": {},
   "source": [
    "1) Importer les librairies classiques : numpy, pandas, sklearn.svm, seaborn et matplolib"
   ]
  },
  {
   "cell_type": "code",
   "execution_count": 221,
   "metadata": {},
   "outputs": [],
   "source": [
    "import matplotlib.pyplot as plt\n",
    "import numpy as np\n",
    "import pandas as pd\n",
    "import seaborn\n",
    "from sklearn import svm\n",
    "\n",
    "# La fonction créée ci-dessous permet de tracer le graphe des données datas regroupées par espèce. \n",
    "# Les arguments en entrées sont \n",
    "    # - datas: tableau pandas des données \n",
    "    # - colors: liste des couleurs pour regrouper sur le graphe chaque espèce.\n",
    "    # - new_point: permet de tracer NEW_POINT en plus sur la courbe. S'il y a un modèle de précisé, \n",
    "    #   new_point sera d'abord identifié. Sinon il n'appartiendra à aucune espèce sur le graphe\n",
    "    # - model: modèle utilisé pour identifier NEW_POINT. Si non spécifié, NEW_POINT n'est pas identifié.\n",
    "    # - optional_model_info: permet de spécifier le type de modèle pour tracer la droite séparation \n",
    "    #   entre les classes pour un modèle SVM.\n",
    "\n",
    "# new_point doit être de la forme NEW_POINT = {'x': <int>, 'y': <int>, 'color': <color>}\n",
    "\n",
    "def plot_with_labels_as_species(datas, colors, new_point=None, model=None, optional_model_info=None):\n",
    "\n",
    "    number_of_species = len(colors)\n",
    "    labels = ['specie ' + str(i) for i in range (number_of_species)]\n",
    "    \n",
    "    #On trace les points regroupés par couleur en fonction de leurs espèces.\n",
    "    for i in range(number_of_species):\n",
    "        species  = datas[datas['species']==i]\n",
    "        plt.scatter(species['petal_length'], species['petal_width'], s=50, c=colors[i], label=labels[i])\n",
    "    \n",
    "    #On trace le nouveau point après identification si un modèle est précisé\n",
    "    if new_point != None and model != None:\n",
    "        X_Y_resized = [[new_point['x'], new_point['x']]]\n",
    "        specie_predicted = 'specie ' + str(model.predict(X_Y_resized)[0])\n",
    "        plt.scatter(new_point['x'], new_point['y'], s=50, c=new_point['color'], label=specie_predicted)\n",
    "\n",
    "    #On trace le nouveau point après identification sans identification.\n",
    "    elif new_point != None:\n",
    "        plt.scatter(new_point['x'], new_point['y'], s=50, c=new_point['color'], label='new point')\n",
    "\n",
    "    #on trace la droite de séparation entre les classes si on précise que le type de modèle est SVM.\n",
    "    if optional_model_info == 'SVM':\n",
    "        w=model.coef_\n",
    "        a=-w[0][0]/w[0][1]\n",
    "        intercept=model.intercept_\n",
    "        b=-intercept/w[0][1]\n",
    "        xx = np.linspace(1,5)\n",
    "        plot=plt.plot(xx,a*xx+b)\n",
    "    \n",
    "    plt.legend()\n",
    "    plt.plot()"
   ]
  },
  {
   "cell_type": "markdown",
   "metadata": {},
   "source": [
    "2) Lire le fichier < iris_SVM.csv > avec pandas"
   ]
  },
  {
   "cell_type": "code",
   "execution_count": 222,
   "metadata": {},
   "outputs": [],
   "source": [
    "datas = pd.read_csv('iris_SVM.csv', sep=\";\")\n"
   ]
  },
  {
   "cell_type": "markdown",
   "metadata": {},
   "source": [
    "3) Lire les trois premières lignes du fichier. Donner le nombre de lignes et de colonnes "
   ]
  },
  {
   "cell_type": "code",
   "execution_count": 223,
   "metadata": {},
   "outputs": [
    {
     "name": "stdout",
     "output_type": "stream",
     "text": [
      "(100, 3)\n",
      "[[1.4 0.2 0. ]\n",
      " [1.4 0.2 0. ]\n",
      " [1.3 0.2 0. ]]\n"
     ]
    }
   ],
   "source": [
    "print(datas.shape)\n",
    "print(datas.values[:3, :])"
   ]
  },
  {
   "cell_type": "markdown",
   "metadata": {},
   "source": [
    "4) Créer trois listes(array) petal_length,petal_width et species"
   ]
  },
  {
   "cell_type": "code",
   "execution_count": 224,
   "metadata": {},
   "outputs": [],
   "source": [
    "petal_lenght, petal_width, species = datas['petal_length'], datas['petal_width'], datas['species']\n"
   ]
  },
  {
   "cell_type": "markdown",
   "metadata": {},
   "source": [
    "5) Tracer sur la même figure les nuages de point de \"petal_width\" en fonction de \"petal_length\". Les points seront de couleurs différentes selon leur catégorie respective dans \"species\" \n",
    "\n",
    "Les 2 couleurs suivantes sont à utiliser: vert pour setosa, rouge pour versicolor. Mettre une légande sur le  graphe "
   ]
  },
  {
   "cell_type": "code",
   "execution_count": 225,
   "metadata": {},
   "outputs": [
    {
     "data": {
      "image/png": "[encoded data removed]",
      "text/plain": [
       "<Figure size 432x288 with 1 Axes>"
      ]
     },
     "metadata": {
      "needs_background": "light"
     },
     "output_type": "display_data"
    }
   ],
   "source": [
    "colors = ['green', 'red']\n",
    "plot_with_labels_as_species(datas, colors)"
   ]
  },
  {
   "cell_type": "markdown",
   "metadata": {},
   "source": [
    "6) Placer sur la figure précédente un point noir correspondant à un nouveau échantillon de fleur dont la pétale a les dimensions suivantes:\n",
    "    largeur = 2,5 cm et longueur = 0,75 cm"
   ]
  },
  {
   "cell_type": "code",
   "execution_count": 226,
   "metadata": {},
   "outputs": [
    {
     "data": {
      "image/png": "[encoded data removed]",
      "text/plain": [
       "<Figure size 432x288 with 1 Axes>"
      ]
     },
     "metadata": {
      "needs_background": "light"
     },
     "output_type": "display_data"
    }
   ],
   "source": [
    "NEW_POINT = {'x': 0.75, 'y': 2.5, 'color': 'blue'}\n",
    "\n",
    "colors=['green', 'red']\n",
    "plot_with_labels_as_species(datas, colors, new_point=NEW_POINT)"
   ]
  },
  {
   "cell_type": "markdown",
   "metadata": {},
   "source": [
    "7) Séparer les données en X_train, X_test, Y_train, Y_test (80% pour entrainement)"
   ]
  },
  {
   "cell_type": "code",
   "execution_count": 227,
   "metadata": {},
   "outputs": [],
   "source": [
    "from sklearn.model_selection import train_test_split\n",
    "\n",
    "x, y = datas[['petal_length', 'petal_width']], datas['species']\n",
    "x_train, x_test, y_train, y_test = train_test_split(x, y, test_size=0.2)"
   ]
  },
  {
   "cell_type": "markdown",
   "metadata": {},
   "source": [
    "8) Entrainement, test en utilisant l'algorithme SVM (SVC= pour classification,  SVR : pour regression)"
   ]
  },
  {
   "cell_type": "code",
   "execution_count": 228,
   "metadata": {},
   "outputs": [
    {
     "data": {
      "text/plain": [
       "1.0"
      ]
     },
     "execution_count": 228,
     "metadata": {},
     "output_type": "execute_result"
    }
   ],
   "source": [
    "C = 1.0\n",
    "MODEL = svm.LinearSVC(C=C)\n",
    "MODEL.fit(x_train, y_train)\n",
    "MODEL.score(x_test, y_test)\n"
   ]
  },
  {
   "cell_type": "markdown",
   "metadata": {},
   "source": [
    "9) Vérifier le score \"from sklearn.metrics import accuracy_score\""
   ]
  },
  {
   "cell_type": "code",
   "execution_count": 229,
   "metadata": {},
   "outputs": [
    {
     "name": "stderr",
     "output_type": "stream",
     "text": [
      "/home/chenow/Documents/EI/env/lib/python3.8/site-packages/sklearn/base.py:450: UserWarning: X does not have valid feature names, but LinearSVC was fitted with feature names\n",
      "  warnings.warn(\n"
     ]
    },
    {
     "data": {
      "image/png": "[encoded data removed]",
      "text/plain": [
       "<Figure size 432x288 with 1 Axes>"
      ]
     },
     "metadata": {
      "needs_background": "light"
     },
     "output_type": "display_data"
    }
   ],
   "source": [
    "NEW_POINT = {'x': 0.75, 'y': 2.5, 'color': 'blue'}\n",
    "\n",
    "y_predicted =  MODEL.predict(x)\n",
    "tableau = pd.concat([x, pd.DataFrame(y_predicted, columns=['species'])], axis=1)\n",
    "\n",
    "colors=['green', 'red']\n",
    "plot_with_labels_as_species(tableau, colors, new_point=NEW_POINT, model=MODEL)"
   ]
  },
  {
   "cell_type": "markdown",
   "metadata": {},
   "source": [
    "10) Tracer le plan (droite) de séparation entre les classes"
   ]
  },
  {
   "cell_type": "code",
   "execution_count": 230,
   "metadata": {},
   "outputs": [
    {
     "name": "stderr",
     "output_type": "stream",
     "text": [
      "/home/chenow/Documents/EI/env/lib/python3.8/site-packages/sklearn/base.py:450: UserWarning: X does not have valid feature names, but LinearSVC was fitted with feature names\n",
      "  warnings.warn(\n"
     ]
    },
    {
     "data": {
      "image/png": "[encoded data removed]",
      "text/plain": [
       "<Figure size 432x288 with 1 Axes>"
      ]
     },
     "metadata": {
      "needs_background": "light"
     },
     "output_type": "display_data"
    }
   ],
   "source": [
    "plot_with_labels_as_species(tableau, colors, new_point=NEW_POINT, model=MODEL, optional_model_info='SVM')"
   ]
  }
 ],
 "metadata": {
  "interpreter": {
   "hash": "bf074bd0e01657660e97728bbb2704e6a091c2cab18096e93119f05f61ace16f"
  },
  "kernelspec": {
   "display_name": "Python 3.8.10 ('env': venv)",
   "language": "python",
   "name": "python3"
  },
  "language_info": {
   "codemirror_mode": {
    "name": "ipython",
    "version": 3
   },
   "file_extension": ".py",
   "mimetype": "text/x-python",
   "name": "python",
   "nbconvert_exporter": "python",
   "pygments_lexer": "ipython3",
   "version": "3.8.10"
  }
 },
 "nbformat": 4,
 "nbformat_minor": 4
}
