{
 "cells": [
  {
   "cell_type": "markdown",
   "metadata": {},
   "source": [
    "0) Importer les librairies classiques : numpy, pandas, seaborn et matplolib"
   ]
  },
  {
   "cell_type": "code",
   "execution_count": 1,
   "metadata": {},
   "outputs": [],
   "source": [
    "import matplotlib.pyplot as plt\n",
    "import numpy as np\n",
    "import pandas as pd\n",
    "import seaborn"
   ]
  },
  {
   "cell_type": "markdown",
   "metadata": {},
   "source": [
    "1) Lire le fichier courbey(x).csv avec pandas"
   ]
  },
  {
   "cell_type": "code",
   "execution_count": 4,
   "metadata": {},
   "outputs": [],
   "source": [
    "datas = pd.read_csv('courbey(x).csv', sep=\";\")"
   ]
  },
  {
   "cell_type": "markdown",
   "metadata": {},
   "source": [
    "2) Pour chaque colonne dans le tableau de données, donner le nombre d'éléments, les valeurs max, min"
   ]
  },
  {
   "cell_type": "code",
   "execution_count": 11,
   "metadata": {},
   "outputs": [
    {
     "name": "stdout",
     "output_type": "stream",
     "text": [
      "x    2.903744\n",
      "y    9.515817\n",
      "dtype: float64\n",
      "200\n",
      "100\n"
     ]
    }
   ],
   "source": [
    "print(datas.max())\n",
    "print(datas.size)\n",
    "print(len(datas['x']))"
   ]
  },
  {
   "cell_type": "markdown",
   "metadata": {},
   "source": [
    "3) Tracer x et y en fonction de la position dans le tableau. Tracer y(x), sous forme de nuage de points"
   ]
  },
  {
   "cell_type": "code",
   "execution_count": 39,
   "metadata": {},
   "outputs": [
    {
     "data": {
      "image/png": "[encoded data removed]",
      "text/plain": [
       "<Figure size 432x288 with 1 Axes>"
      ]
     },
     "metadata": {
      "needs_background": "light"
     },
     "output_type": "display_data"
    }
   ],
   "source": [
    "X = datas.values[:, 0]\n",
    "Y = datas.values[:, 1]\n",
    "\n",
    "plt.scatter(X, Y, s=10)\n",
    "plt.scatter(Y, X, s=10, c='red')\n",
    "plt.xlabel('X')\n",
    "plt.ylabel('Y')\n",
    "plt.show()"
   ]
  },
  {
   "cell_type": "markdown",
   "metadata": {},
   "source": [
    "4) Appliquer aux données un modèle de régression linéaire afin de tracer la droite de régression. (Remarque: Utiliser reshape)"
   ]
  },
  {
   "cell_type": "code",
   "execution_count": 26,
   "metadata": {},
   "outputs": [
    {
     "name": "stdout",
     "output_type": "stream",
     "text": [
      "63.63943123641509\n"
     ]
    }
   ],
   "source": [
    "from sklearn.linear_model import LinearRegression\n",
    "from sklearn.model_selection import train_test_split\n",
    "\n",
    "train_datas, test_datas = train_test_split(datas.values, test_size=int(0.2*len(datas['x'])))\n",
    "\n",
    "X_train = [train_datas[i][0] for i in range(len(train_datas))]\n",
    "Y_train = [train_datas[i][1] for i in range(len(train_datas))]\n",
    "X_test = [test_datas[i][0] for i in range(len(test_datas))]\n",
    "Y_test = [test_datas[i][1] for i in range(len(test_datas))]\n",
    "\n",
    "x_train = np.reshape(X_train, (-1, 1))\n",
    "y_train = np.reshape(Y_train, (-1, 1))\n",
    "x_test = np.reshape(X_test, (-1, 1))\n",
    "y_test = np.reshape(Y_test, (-1, 1))\n",
    "\n",
    "model_linReg = LinearRegression()\n",
    "\n",
    "model_linReg.fit(x_train, y_train)\n",
    "precision = model_linReg.score(x_test, y_test)\n",
    "\n",
    "print(precision*100)"
   ]
  },
  {
   "cell_type": "markdown",
   "metadata": {},
   "source": [
    "5) Appliquer aux données un modèle de régression Polynomiale."
   ]
  },
  {
   "cell_type": "code",
   "execution_count": null,
   "metadata": {},
   "outputs": [],
   "source": [
    "from sklearn.preprocessing import PolynomialFeatures\n",
    "from sklearn.linear_model import LinearRegression\n",
    "\n",
    "poly = PolynomialFeatures(degree=3, include_bias=False)\n",
    "poly_features_train = poly.fit_transform(x_train)\n",
    "poly_features_test = poly.fit_transform(x_test)\n",
    "\n",
    "poly_reg_model = LinearRegression()\n",
    "poly_reg_model.fit(poly_features_train, y_train)"
   ]
  },
  {
   "cell_type": "markdown",
   "metadata": {},
   "source": [
    "6) Calculer le score"
   ]
  },
  {
   "cell_type": "code",
   "execution_count": 28,
   "metadata": {},
   "outputs": [
    {
     "name": "stdout",
     "output_type": "stream",
     "text": [
      "97.19972522017717\n"
     ]
    }
   ],
   "source": [
    "precision = poly_reg_model.score(poly_features_test, y_test)\n",
    "print(precision*100)"
   ]
  },
  {
   "cell_type": "markdown",
   "metadata": {},
   "source": [
    "7) Tracer le nuage des points et tracer la courbe de prédiction. Remarque: il faut ordonner les valeurs de x et y"
   ]
  },
  {
   "cell_type": "code",
   "execution_count": 37,
   "metadata": {},
   "outputs": [
    {
     "data": {
      "image/png": "[encoded data removed]",
      "text/plain": [
       "<Figure size 432x288 with 1 Axes>"
      ]
     },
     "metadata": {
      "needs_background": "light"
     },
     "output_type": "display_data"
    }
   ],
   "source": [
    "x = np.reshape(X, (-1, 1))\n",
    "poly_features_x = poly.fit_transform(x)\n",
    "\n",
    "y_predicted = poly_reg_model.predict(poly_features_x)\n",
    "\n",
    "plt.scatter(poly_features_x[:, 0], y_predicted, s=10)\n",
    "plt.xlabel('X')\n",
    "plt.ylabel('Y')\n",
    "plt.show()"
   ]
  }
 ],
 "metadata": {
  "interpreter": {
   "hash": "bf074bd0e01657660e97728bbb2704e6a091c2cab18096e93119f05f61ace16f"
  },
  "kernelspec": {
   "display_name": "Python 3.8.10 ('env': venv)",
   "language": "python",
   "name": "python3"
  },
  "language_info": {
   "codemirror_mode": {
    "name": "ipython",
    "version": 3
   },
   "file_extension": ".py",
   "mimetype": "text/x-python",
   "name": "python",
   "nbconvert_exporter": "python",
   "pygments_lexer": "ipython3",
   "version": "3.8.10"
  }
 },
 "nbformat": 4,
 "nbformat_minor": 4
}
